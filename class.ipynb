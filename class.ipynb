{
 "cells": [
  {
   "cell_type": "markdown",
   "metadata": {},
   "source": [
    "### `__str__()`\n",
    "`__str__()` is a special method which is called when an instance of the class is converted to string (e.g. when you want to print the instance). In other words, by defining `__str__` method for your class, you can decide what's the printable version of the instances of your class. The method should return a string."
   ]
  },
  {
   "cell_type": "code",
   "execution_count": 1,
   "metadata": {},
   "outputs": [
    {
     "name": "stdout",
     "output_type": "stream",
     "text": [
      "This is the string presentation of jack: Person: Jack\n"
     ]
    }
   ],
   "source": [
    "class Person:\n",
    "    def __init__(self, name, age):\n",
    "        self.name = name\n",
    "        self.age = age\n",
    "        \n",
    "    def __str__(self):\n",
    "        return 'Person: {}'.format(self.name)\n",
    "    \n",
    "jack = Person('Jack', 82)\n",
    "print('This is the string presentation of jack: {}'.format(jack))"
   ]
  },
  {
   "cell_type": "markdown",
   "metadata": {},
   "source": [
    "## Class variables vs instance variables\n",
    "Class variables are shared between all the instances of that class whereas instance variables can hold different values between different instances of that class."
   ]
  },
  {
   "cell_type": "code",
   "execution_count": 2,
   "metadata": {},
   "outputs": [
    {
     "name": "stdout",
     "output_type": "stream",
     "text": [
      "instance_variable: foo, name: Modified name, description: Just an example of a simple class\n",
      "instance_variable: bar, name: Modified name, description: Just an example of a simple class\n"
     ]
    }
   ],
   "source": [
    "class Example:\n",
    "    # These are class variables\n",
    "    name = 'Example class'\n",
    "    description = 'Just an example of a simple class'\n",
    "\n",
    "    def __init__(self, var1):\n",
    "        # This is an instance variable\n",
    "        self.instance_variable = var1\n",
    "\n",
    "    def show_info(self):\n",
    "        info = 'instance_variable: {}, name: {}, description: {}'.format(\n",
    "            self.instance_variable, Example.name, Example.description)\n",
    "        print(info)\n",
    "\n",
    "\n",
    "inst1 = Example('foo')\n",
    "inst2 = Example('bar')\n",
    "\n",
    "# name and description have identical values between instances\n",
    "assert inst1.name == inst2.name == Example.name\n",
    "assert inst1.description == inst2.description == Example.description\n",
    "\n",
    "# If you change the value of a class variable, it's changed across all instances\n",
    "Example.name = 'Modified name'\n",
    "inst1.show_info()\n",
    "inst2.show_info()"
   ]
  },
  {
   "cell_type": "code",
   "execution_count": null,
   "metadata": {},
   "outputs": [],
   "source": []
  }
 ],
 "metadata": {
  "kernelspec": {
   "display_name": "Python 3",
   "language": "python",
   "name": "python3"
  },
  "language_info": {
   "codemirror_mode": {
    "name": "ipython",
    "version": 3
   },
   "file_extension": ".py",
   "mimetype": "text/x-python",
   "name": "python",
   "nbconvert_exporter": "python",
   "pygments_lexer": "ipython3",
   "version": "3.7.0"
  }
 },
 "nbformat": 4,
 "nbformat_minor": 2
}
